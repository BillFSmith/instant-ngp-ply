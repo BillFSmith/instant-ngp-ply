{
  "cells": [
    {
      "cell_type": "markdown",
      "source": [
        "Based on this [notebook](https://github.com/NVlabs/instant-ngp/blob/master/notebooks/instant_ngp.ipynb) but with a call to output a 3D model in .ply format"
      ],
      "metadata": {
        "id": "103kdtthYwbL"
      }
    },
    {
      "cell_type": "markdown",
      "metadata": {
        "id": "NyjFWI3WDPBr"
      },
      "source": [
        "Connect your colab session to a GPU runtime and check that you have been assigned a GPU. It should have a minimum of 8GB of available memory."
      ]
    },
    {
      "cell_type": "code",
      "execution_count": null,
      "metadata": {
        "id": "QJC-0GitoJEh"
      },
      "outputs": [],
      "source": [
        "!nvidia-smi"
      ]
    },
    {
      "cell_type": "code",
      "execution_count": null,
      "metadata": {
        "id": "yKFsL8wSdQ8Q"
      },
      "outputs": [],
      "source": [
        "!apt update && apt install build-essential git python3-dev python3-pip libopenexr-dev libxi-dev libglfw3-dev libglew-dev libomp-dev libxinerama-dev libxcursor-dev colmap ffmpeg jq\n",
        "!pip install --upgrade cmake\n",
        "\n",
        "!git clone --recursive https://github.com/nvlabs/instant-ngp\n",
        "%cd instant-ngp\n",
        "\n",
        "!cmake . -B build -DNGP_BUILD_WITH_GUI=OFF\n",
        "\n",
        "!cmake --build build --config RelWithDebInfo -j `nproc`\n",
        "\n",
        "!pip3 install -r requirements.txt"
      ]
    },
    {
      "cell_type": "code",
      "source": [
        "!git clone --recursive https://github.com/nvlabs/instant-ngp\n"
      ],
      "metadata": {
        "id": "Hfir__fycKeT"
      },
      "execution_count": null,
      "outputs": []
    },
    {
      "cell_type": "code",
      "execution_count": null,
      "metadata": {
        "id": "a-CfnpVUze1G"
      },
      "outputs": [],
      "source": [
        "# optional\n",
        "# from google.colab import drive\n",
        "# drive.mount('/content/drive')"
      ]
    },
    {
      "cell_type": "code",
      "source": [
        "!mkdir saved\n",
        "!python3 ./scripts/run.py --mode nerf --scene ./data/nerf/fox/ --n_steps 35000 --save_snapshot saved/fox.msgpack --save_mesh saved/fox.ply --train"
      ],
      "metadata": {
        "id": "FrFUIQ-YaVTy"
      },
      "execution_count": null,
      "outputs": []
    },
    {
      "cell_type": "code",
      "source": [
        "# optional\n",
        "# !cp saved/fox.ply /content/drive/MyDrive/Projects/instant-ngp/"
      ],
      "metadata": {
        "id": "44mKpb8ealVr"
      },
      "execution_count": 1,
      "outputs": []
    },
    {
      "cell_type": "markdown",
      "source": [
        "\n",
        "**To make your own scenes:** <br>\n",
        "Install colmap (no GPU needed) and download colmap2nerf: <br>\n",
        "https://github.com/NVlabs/instant-ngp/blob/master/scripts/colmap2nerf.py <br>\n",
        "\n",
        "Then run a command of the form: <br>\n",
        "python /home/bill/instant-ngp/scripts/colmap2nerf.py --colmap_matcher exhaustive --run_colmap --aabb_scale 1 --images /home/bill/Documents/PG/11/images<br>\n",
        "\n",
        "The directory of the images then needs to be changed to 'images', i.e: <br>\n",
        "    ├── images<br>\n",
        "    │   ├── 00001.jpg<br>\n",
        "    │   └── 00002.jpg<br>\n",
        "    └── transforms.json<br>\n",
        "\n",
        "This will probably require editing transforms.json with a simple find and replace <br>\n",
        "\n",
        "The scene argument can then be changed. For example: <br>\n",
        "!python3 ./scripts/run.py --scene /content/drive/MyDrive/Projects/instant-ngp/lego_train --n_steps 35000 --save_mesh saved/lego.ply --train"
      ],
      "metadata": {
        "id": "P_P9iofQePO5"
      }
    }
  ],
  "metadata": {
    "accelerator": "GPU",
    "colab": {
      "provenance": []
    },
    "kernelspec": {
      "display_name": "Python 3",
      "language": "python",
      "name": "python3"
    },
    "language_info": {
      "name": "python",
      "version": "3.9.7 (tags/v3.9.7:1016ef3, Aug 30 2021, 20:19:38) [MSC v.1929 64 bit (AMD64)]"
    },
    "vscode": {
      "interpreter": {
        "hash": "76392a4a51364e66be8d9e8c24551b51109eb4003b2256c2b9df7166893b45c1"
      }
    }
  },
  "nbformat": 4,
  "nbformat_minor": 0
}